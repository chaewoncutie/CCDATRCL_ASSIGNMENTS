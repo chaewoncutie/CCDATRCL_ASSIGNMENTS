{
  "cells": [
    {
      "cell_type": "markdown",
      "metadata": {
        "id": "h2vFiYhGzZOg"
      },
      "source": [
        "# Exercise 1"
      ]
    },
    {
      "cell_type": "code",
      "execution_count": null,
      "metadata": {
        "id": "b1u4Dt9mzZOi"
      },
      "outputs": [],
      "source": [
        "class Node:\n",
        "    def __init__(self, data):\n",
        "        self.data = data\n",
        "        self.next = None\n",
        "        self.prev = None"
      ]
    },
    {
      "cell_type": "markdown",
      "source": [
        "## Class Initialization"
      ],
      "metadata": {
        "id": "sRm6kPQozcaU"
      }
    },
    {
      "cell_type": "code",
      "execution_count": null,
      "metadata": {
        "id": "tigvHSaHzZOj"
      },
      "outputs": [],
      "source": [
        "class LinkedList:\n",
        "\n",
        "    def __init__(self):\n",
        "        self.head = None\n",
        "\n",
        "    def traverse(self, node):\n",
        "        while node:\n",
        "            print(node.data, end=\" -> \")\n",
        "            node = node.next"
      ]
    },
    {
      "cell_type": "code",
      "execution_count": null,
      "metadata": {
        "id": "LIkQBioVzZOk"
      },
      "outputs": [],
      "source": [
        "class DoublyLinkedList:\n",
        "\n",
        "    def __init__(self):\n",
        "        self.head = None\n",
        "\n",
        "    def traverse(self, node):\n",
        "        while node:\n",
        "            print(node.data, end=\" -> \")\n",
        "            node = node.next"
      ]
    },
    {
      "cell_type": "code",
      "execution_count": null,
      "metadata": {
        "id": "zlxNT5EozZOl"
      },
      "outputs": [],
      "source": [
        "class CircularLinkedList:\n",
        "\n",
        "    def __init__(self):\n",
        "        self.head = None\n",
        "\n",
        "    def traverse(self, node):\n",
        "\n",
        "        head = node\n",
        "\n",
        "        while node:\n",
        "            print(node.data, end=\" -> \")\n",
        "            node = node.next\n",
        "\n",
        "            # Break to prevent infinite loop\n",
        "            if node == head:\n",
        "                break"
      ]
    },
    {
      "cell_type": "markdown",
      "metadata": {
        "id": "O68-Q1-bzZOl"
      },
      "source": [
        "#### 1. Create a Singly Linked list\n",
        "\n",
        "- Each node should contain your name and your seatmates in your row\n",
        "- Create at least 5 nodes\n",
        "- Traverse all nodes"
      ]
    },
    {
      "cell_type": "code",
      "execution_count": 2,
      "metadata": {
        "id": "pTcx_OuPzZOl",
        "outputId": "07edb147-77dd-4ebc-a6a1-5225b1e11b16",
        "colab": {
          "base_uri": "https://localhost:8080/"
        }
      },
      "outputs": [
        {
          "output_type": "stream",
          "name": "stdout",
          "text": [
            "Aaron -> Gatchi -> Teej -> Mark -> James -> Null\n"
          ]
        }
      ],
      "source": [
        "class Node:\n",
        "    def __init__(self, data):\n",
        "        self.data = data\n",
        "        self.next = None\n",
        "class SinglyLinkedList:\n",
        "    def __init__(self):\n",
        "        self.head = None\n",
        "    def traverse(self):\n",
        "        current = self.head\n",
        "        while current:\n",
        "            print(current.data, end=\" -> \")\n",
        "            current = current.next\n",
        "        print(\"Null\")\n",
        "aaron = Node(\"Aaron\")\n",
        "gatchi = Node(\"Gatchi\")\n",
        "teej = Node(\"Teej\")\n",
        "mark = Node(\"Mark\")\n",
        "james = Node(\"James\")\n",
        "linked_list = SinglyLinkedList()\n",
        "linked_list.head = aaron\n",
        "\n",
        "aaron.next = gatchi\n",
        "\n",
        "gatchi.next = teej\n",
        "\n",
        "teej.next = mark\n",
        "\n",
        "mark.next = james\n",
        "\n",
        "linked_list.traverse()"
      ]
    },
    {
      "cell_type": "markdown",
      "metadata": {
        "id": "IFgwbdw_zZOm"
      },
      "source": [
        "#### 2. Create a Doubly Linked list\n",
        "\n",
        "- Each node should contain your name and your seatmates in your row\n",
        "- Create at least 5 nodes\n",
        "- Traverse all nodes"
      ]
    },
    {
      "cell_type": "code",
      "execution_count": 21,
      "metadata": {
        "id": "8kQD2A_QzZOm",
        "outputId": "c1087d7b-7827-457e-c56f-99765761069d",
        "colab": {
          "base_uri": "https://localhost:8080/"
        }
      },
      "outputs": [
        {
          "output_type": "stream",
          "name": "stdout",
          "text": [
            "Aaron -> Gatchi -> Teej -> Mark -> James -> Null\n",
            "James -> Mark -> Teej -> Gatchi -> Aaron -> Null\n"
          ]
        }
      ],
      "source": [
        "class Node:\n",
        "    def __init__(self, data):\n",
        "        self.data = data\n",
        "        self.prev = None\n",
        "        self.next = None\n",
        "\n",
        "class DoublyLinkedList:\n",
        "    def __init__(self):\n",
        "        self.head = None\n",
        "\n",
        "    def traverse(self, node=None):\n",
        "        if node is None:\n",
        "            node = self.head\n",
        "        while node:\n",
        "            print(node.data, end=\" -> \")\n",
        "            node = node.next\n",
        "        print(\"Null\")\n",
        "\n",
        "    def traverse_in_reverse_order(self, node=None):\n",
        "        if node is None:\n",
        "            node = self.head\n",
        "            while node.next:\n",
        "                node = node.next\n",
        "            while node:\n",
        "                print(node.data, end=\" -> \")\n",
        "                node = node.prev\n",
        "            print(\"Null\")\n",
        "\n",
        "aaron = Node(\"Aaron\")\n",
        "gatchi = Node(\"Gatchi\")\n",
        "teej = Node(\"Teej\")\n",
        "mark = Node(\"Mark\")\n",
        "james = Node(\"James\")\n",
        "\n",
        "doubly_linked_list = DoublyLinkedList()\n",
        "doubly_linked_list.head = aaron\n",
        "\n",
        "aaron.next = gatchi\n",
        "gatchi.prev = aaron\n",
        "\n",
        "gatchi.next = teej\n",
        "teej.prev = gatchi\n",
        "\n",
        "teej.next = mark\n",
        "mark.prev = teej\n",
        "\n",
        "mark.next = james\n",
        "james.prev = mark\n",
        "\n",
        "doubly_linked_list.traverse()\n",
        "doubly_linked_list.traverse_in_reverse_order()"
      ]
    },
    {
      "cell_type": "markdown",
      "metadata": {
        "id": "rtApbsCjzZOm"
      },
      "source": [
        "#### 3. Create a Circular Linked list\n",
        "\n",
        "- Each node should contain your name and your seatmates in your row\n",
        "- Create at least 5 nodes\n",
        "- Traverse all nodes"
      ]
    },
    {
      "cell_type": "code",
      "execution_count": 19,
      "metadata": {
        "id": "Gp1Oiq0jzZOn",
        "outputId": "3504cd7a-7071-4669-bc2e-49ab9f8b99e9",
        "colab": {
          "base_uri": "https://localhost:8080/"
        }
      },
      "outputs": [
        {
          "output_type": "stream",
          "name": "stdout",
          "text": [
            "Aaron -> Gatchi -> Teej -> Mark -> James -> "
          ]
        }
      ],
      "source": [
        "class Node:\n",
        "    def __init__(self, data):\n",
        "        self.data = data\n",
        "        self.next = None\n",
        "\n",
        "class CircularLinkedList:\n",
        "    def __init__(self):\n",
        "        self.head = None\n",
        "\n",
        "    def traverse(self):\n",
        "        if not self.head:\n",
        "            print(\"Empty list\")\n",
        "            return\n",
        "\n",
        "        current = self.head\n",
        "        while True:\n",
        "            print(current.data, end=\" -> \")\n",
        "            current = current.next\n",
        "            if current == self.head:\n",
        "                break\n",
        "\n",
        "aaron = Node(\"Aaron\")\n",
        "gatchi = Node(\"Gatchi\")\n",
        "teej = Node(\"Teej\")\n",
        "mark = Node(\"Mark\")\n",
        "james = Node(\"James\")\n",
        "\n",
        "\n",
        "circular_linked_list = CircularLinkedList()\n",
        "circular_linked_list.head = aaron\n",
        "aaron.next = gatchi\n",
        "gatchi.next = teej\n",
        "teej.next = mark\n",
        "mark.next = james\n",
        "james.next = aaron\n",
        "\n",
        "circular_linked_list.traverse()"
      ]
    }
  ],
  "metadata": {
    "kernelspec": {
      "display_name": "Python 3",
      "language": "python",
      "name": "python3"
    },
    "language_info": {
      "name": "python",
      "version": "3.11.4"
    },
    "orig_nbformat": 4,
    "colab": {
      "provenance": []
    }
  },
  "nbformat": 4,
  "nbformat_minor": 0
}