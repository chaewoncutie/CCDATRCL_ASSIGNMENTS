{
  "cells": [
    {
      "cell_type": "markdown",
      "metadata": {
        "id": "uVlQ1Amlk8m1"
      },
      "source": [
        "# Exercise 3"
      ]
    },
    {
      "cell_type": "markdown",
      "metadata": {
        "id": "2NsKGhPRk8m5"
      },
      "source": [
        "#### Pre-defined classes"
      ]
    },
    {
      "cell_type": "markdown",
      "metadata": {
        "id": "uJU3Ewvkk8m6"
      },
      "source": [
        "Pre-defined Queue class"
      ]
    },
    {
      "cell_type": "code",
      "execution_count": 119,
      "metadata": {
        "id": "MjF33B2Nk8m6"
      },
      "outputs": [],
      "source": [
        "class Queue:\n",
        "    def __init__(self):\n",
        "        self.queue = []\n",
        "\n",
        "    # Add an element\n",
        "    def enqueue(self, item):\n",
        "        self.queue.append(item)\n",
        "\n",
        "    # Remove an element\n",
        "    def dequeue(self):\n",
        "        if len(self.queue) < 1:\n",
        "            return None\n",
        "        return self.queue.pop(0)\n",
        "\n",
        "    # Display  the queue\n",
        "    def display(self):\n",
        "        print(self.queue)\n",
        "\n",
        "    def size(self):\n",
        "        return len(self.queue)\n",
        "\n",
        "    def peek(self):\n",
        "        return self.queue[0]\n"
      ]
    },
    {
      "cell_type": "markdown",
      "metadata": {
        "id": "zkz-zrivk8m8"
      },
      "source": [
        "Pre-defined Deque class"
      ]
    },
    {
      "cell_type": "code",
      "execution_count": 120,
      "metadata": {
        "id": "K2mcbRaDk8m8"
      },
      "outputs": [],
      "source": [
        "class Deque:\n",
        "    def __init__(self):\n",
        "        self.items = []\n",
        "\n",
        "    def isEmpty(self):\n",
        "        return self.items == []\n",
        "\n",
        "    def addRear(self, item):\n",
        "        self.items.append(item)\n",
        "\n",
        "    def addFront(self, item):\n",
        "        self.items.insert(0, item)\n",
        "\n",
        "    def removeFront(self):\n",
        "        return self.items.pop(0)\n",
        "\n",
        "    def removeRear(self):\n",
        "        return self.items.pop()\n",
        "\n",
        "    def size(self):\n",
        "        return len(self.items)"
      ]
    },
    {
      "cell_type": "markdown",
      "metadata": {
        "id": "Z9Z8gXVwk8m9"
      },
      "source": [
        "Pre-defined Circular Queue class"
      ]
    },
    {
      "cell_type": "code",
      "execution_count": 121,
      "metadata": {
        "id": "tLmWMS0Ok8m-"
      },
      "outputs": [],
      "source": [
        "class CircularQueue():\n",
        "\n",
        "    def __init__(self, k):\n",
        "        self.k = k\n",
        "        self.queue = [None] * k\n",
        "        self.head = self.tail = -1\n",
        "\n",
        "    # Insert an element into the circular queue\n",
        "    def enqueue(self, data):\n",
        "\n",
        "        if ((self.tail + 1) % self.k == self.head):\n",
        "            print(\"The circular queue is full\\n\")\n",
        "\n",
        "        elif (self.head == -1):\n",
        "            self.head = 0\n",
        "            self.tail = 0\n",
        "            self.queue[self.tail] = data\n",
        "        else:\n",
        "            self.tail = (self.tail + 1) % self.k\n",
        "            self.queue[self.tail] = data\n",
        "\n",
        "    # Delete an element from the circular queue\n",
        "    def dequeue(self):\n",
        "        if (self.head == -1):\n",
        "            print(\"The circular queue is empty\\n\")\n",
        "\n",
        "        elif (self.head == self.tail):\n",
        "            temp = self.queue[self.head]\n",
        "            self.head = -1\n",
        "            self.tail = -1\n",
        "            return temp\n",
        "        else:\n",
        "            temp = self.queue[self.head]\n",
        "            self.head = (self.head + 1) % self.k\n",
        "            return temp\n",
        "\n",
        "    def printCQueue(self):\n",
        "        if(self.head == -1):\n",
        "            print(\"No element in the circular queue\")\n",
        "\n",
        "        elif (self.tail >= self.head):\n",
        "            for i in range(self.head, self.tail + 1):\n",
        "                print(self.queue[i], end=\" \")\n",
        "            print()\n",
        "        else:\n",
        "            for i in range(self.head, self.k):\n",
        "                print(self.queue[i], end=\" \")\n",
        "            for i in range(0, self.tail + 1):\n",
        "                print(self.queue[i], end=\" \")\n",
        "            print()\n"
      ]
    },
    {
      "cell_type": "markdown",
      "metadata": {
        "id": "LSRLfMvnk8m-"
      },
      "source": [
        "Pre-defined Priority Queue Class"
      ]
    },
    {
      "cell_type": "code",
      "execution_count": 122,
      "metadata": {
        "id": "sB-c6bg5k8m_"
      },
      "outputs": [],
      "source": [
        "class PriorityQueueNode:\n",
        "    def __init__(self, value, pr):\n",
        "\n",
        "        self.data = value\n",
        "        self.priority = pr\n",
        "        self.next = None"
      ]
    },
    {
      "cell_type": "code",
      "execution_count": 123,
      "metadata": {
        "id": "ytOmZDAmk8m_"
      },
      "outputs": [],
      "source": [
        "class PriorityQueue:\n",
        "\n",
        "\tdef __init__(self):\n",
        "\n",
        "\t\tself.front = None\n",
        "\n",
        "\t# Method to check Priority Queue is Empty\n",
        "\t# or not if Empty then it will return True\n",
        "\t# Otherwise False\n",
        "\tdef isEmpty(self):\n",
        "\n",
        "\t\treturn True if self.front == None else False\n",
        "\n",
        "\t# Method to add items in Priority Queue\n",
        "\t# According to their priority value\n",
        "\tdef push(self, value, priority):\n",
        "\n",
        "\t\t# Condition check for checking Priority\n",
        "\t\t# Queue is empty or not\n",
        "\t\tif self.isEmpty() == True:\n",
        "\n",
        "\t\t\t# Creating a new node and assigning\n",
        "\t\t\t# it to class variable\n",
        "\t\t\tself.front = PriorityQueueNode(value, priority)\n",
        "\n",
        "\t\t\t# Returning 1 for successful execution\n",
        "\t\t\treturn 1\n",
        "\n",
        "\t\telse:\n",
        "\n",
        "\t\t\t# Special condition check to see that\n",
        "\t\t\t# first node priority value\n",
        "\t\t\tif self.front.priority > priority:\n",
        "\t\t\t\t# Creating a new node\n",
        "\t\t\t\tnewNode = PriorityQueueNode(value, priority)\n",
        "\t\t\t\t# Updating the new node next value\n",
        "\t\t\t\tnewNode.next = self.front\n",
        "\n",
        "\t\t\t\t# Assigning it to self.front\n",
        "\t\t\t\tself.front = newNode\n",
        "\n",
        "\t\t\t\t# Returning 1 for successful execution\n",
        "\t\t\t\treturn 1\n",
        "\n",
        "\t\t\telse:\n",
        "\n",
        "\t\t\t\t# Traversing through Queue until it\n",
        "\t\t\t\t# finds the next smaller priority node\n",
        "\t\t\t\ttemp = self.front\n",
        "\n",
        "\t\t\t\twhile temp.next:\n",
        "\t\t\t\t\t# If same priority node found then current\n",
        "\t\t\t\t\t# node will come after previous node\n",
        "\t\t\t\t\tif priority <= temp.next.priority:\n",
        "\t\t\t\t\t\tbreak\n",
        "\n",
        "\t\t\t\t\ttemp = temp.next\n",
        "\n",
        "\t\t\t\tnewNode = PriorityQueueNode(value, priority)\n",
        "\t\t\t\tnewNode.next = temp.next\n",
        "\t\t\t\ttemp.next = newNode\n",
        "\n",
        "\t\t\t\t# Returning 1 for successful execution\n",
        "\t\t\t\treturn 1\n",
        "\n",
        "\t# Method to remove high priority item\n",
        "\t# from the Priority Queue\n",
        "\tdef pop(self):\n",
        "\n",
        "\t\t# Condition check for checking\n",
        "\t\t# Priority Queue is empty or not\n",
        "\t\tif self.isEmpty() == True:\n",
        "\t\t\treturn\n",
        "\t\telse:\n",
        "\t\t\t# Removing high priority node from\n",
        "\t\t\t# Priority Queue, and updating front\n",
        "\t\t\t# with next node\n",
        "\t\t\tself.front = self.front.next\n",
        "\t\t\treturn 1\n",
        "\n",
        "\t# Method to return high priority node\n",
        "\t# value Not removing it\n",
        "\tdef peek(self):\n",
        "\t\t# Condition check for checking Priority\n",
        "\t\t# Queue is empty or not\n",
        "\t\tif self.isEmpty() == True:\n",
        "\t\t\treturn\n",
        "\t\telse:\n",
        "\t\t\treturn self.front.data\n",
        "\n",
        "\t# Method to Traverse through Priority\n",
        "\t# Queue\n",
        "\tdef traverse(self):\n",
        "\t\t# Condition check for checking Priority\n",
        "\t\t# Queue is empty or not\n",
        "\t\tif self.isEmpty() == True:\n",
        "\t\t\treturn \"Queue is Empty!\"\n",
        "\t\telse:\n",
        "\t\t\ttemp = self.front\n",
        "\t\t\twhile temp:\n",
        "\t\t\t\tprint(temp.data, end=\" \")\n",
        "\t\t\t\ttemp = temp.next\n"
      ]
    },
    {
      "cell_type": "markdown",
      "metadata": {
        "id": "8yWcMvbuk8nA"
      },
      "source": [
        "#### 1. Create a Queue\n",
        "\n",
        "- Each element should contain your name and your other classmates\n",
        "- There should be at least 5 elements in the queue\n",
        "- Put yourself at the end of the queue\n",
        "- Print all elements in the queue"
      ]
    },
    {
      "cell_type": "code",
      "execution_count": 124,
      "metadata": {
        "colab": {
          "base_uri": "https://localhost:8080/"
        },
        "id": "fp3Sy0ppk8nA",
        "outputId": "700e0ec1-7388-46d1-b49a-234c074f6c7d"
      },
      "outputs": [
        {
          "output_type": "stream",
          "name": "stdout",
          "text": [
            "['Gatchi', 'Teej', 'Mark', 'James', 'Aaron']\n"
          ]
        }
      ],
      "source": [
        "# put your answer here\n",
        "kwek = Queue()\n",
        "\n",
        "kwek.enqueue(\"Gatchi\")\n",
        "kwek.enqueue(\"Teej\")\n",
        "kwek.enqueue(\"Mark\")\n",
        "kwek.enqueue(\"James\")\n",
        "kwek.enqueue(\"Aaron\")\n",
        "\n",
        "kwek.display()"
      ]
    },
    {
      "cell_type": "markdown",
      "metadata": {
        "id": "OKfqYyEok8nB"
      },
      "source": [
        "#### 2. Create a Deque\n",
        "\n",
        "Given the queue below,\n",
        "\n",
        "**Queue:**\n",
        "\n",
        "| Cat | Dog | Rabbit | Bird | Hamster\n",
        "| --- | --- | --- | --- | --- |\n",
        "\n",
        "**dequeue** each element and insert them into a **Deque** in the following order below:\n",
        "\n",
        "**Deque:**\n",
        "\n",
        "| Hamster | Bird | Rabbit | Dog | Cat\n",
        "| --- | --- | --- | --- | --- |\n",
        "\n",
        "**Expected output:**\n",
        "\n",
        "['Hamster','Bird', 'Rabbit', 'Dog', 'Cat']"
      ]
    },
    {
      "cell_type": "code",
      "source": [
        "animal = Queue()\n",
        "pet = Deque()"
      ],
      "metadata": {
        "id": "55TVDkOLAUim"
      },
      "execution_count": 125,
      "outputs": []
    },
    {
      "cell_type": "code",
      "execution_count": 126,
      "metadata": {
        "colab": {
          "base_uri": "https://localhost:8080/"
        },
        "id": "WefEg26kk8nB",
        "outputId": "b7ca4302-b207-4c16-9016-fafb4ac63385"
      },
      "outputs": [
        {
          "output_type": "stream",
          "name": "stdout",
          "text": [
            "['Cat', 'Dog', 'Rabbit', 'Bird', 'Hamster']\n"
          ]
        }
      ],
      "source": [
        "animal.enqueue(\"Cat\")\n",
        "animal.enqueue(\"Dog\")\n",
        "animal.enqueue(\"Rabbit\")\n",
        "animal.enqueue(\"Bird\")\n",
        "animal.enqueue(\"Hamster\")\n",
        "animal.display()\n"
      ]
    },
    {
      "cell_type": "code",
      "source": [
        "pet.addFront(animal.dequeue())\n",
        "pet.addFront(animal.dequeue())\n",
        "pet.addFront(animal.dequeue())\n",
        "pet.addFront(animal.dequeue())\n",
        "pet.addFront(animal.dequeue())\n",
        "print(pet.items)"
      ],
      "metadata": {
        "id": "CoQ5rx_KAhLh",
        "outputId": "98cc87f6-788b-47c5-d9a4-77bf3391d0a2",
        "colab": {
          "base_uri": "https://localhost:8080/"
        }
      },
      "execution_count": 127,
      "outputs": [
        {
          "output_type": "stream",
          "name": "stdout",
          "text": [
            "['Hamster', 'Bird', 'Rabbit', 'Dog', 'Cat']\n"
          ]
        }
      ]
    },
    {
      "cell_type": "markdown",
      "metadata": {
        "id": "wkqbtmCSk8nC"
      },
      "source": [
        "#### 3. Create a Circular Queue\n",
        "\n",
        "Given the queue below,\n",
        "\n",
        "**Queue:**\n",
        "\n",
        "| I | II | III | IV | V | VI | VII | VIII | IX | X | XI | XII\n",
        "| --- | --- | --- | --- | --- | --- | --- | --- | --- | --- | --- | --- |\n",
        "\n",
        "**dequeue** each element and insert them into a **Circular Deque** in the following order below:\n",
        "\n",
        "**Circular Queue:**\n",
        "\n",
        "<img src=\"clock.jpg\"/>\n",
        "\n",
        "**Expected output:**\n",
        "\n",
        "I II III IV V VI VII VIII IX X XI XII"
      ]
    },
    {
      "cell_type": "code",
      "execution_count": 128,
      "metadata": {
        "id": "O9L2SZ5Qk8nD"
      },
      "outputs": [],
      "source": [
        "circle = Queue()\n",
        "\n",
        "circle.enqueue('I')\n",
        "circle.enqueue('II')\n",
        "circle.enqueue('III')\n",
        "circle.enqueue('IV')\n",
        "circle.enqueue('V')\n",
        "circle.enqueue('VI')\n",
        "circle.enqueue('VII')\n",
        "circle.enqueue('VIII')\n",
        "circle.enqueue('IX')\n",
        "circle.enqueue('X')\n",
        "circle.enqueue('XI')\n",
        "circle.enqueue('XII')\n"
      ]
    },
    {
      "cell_type": "code",
      "source": [
        "clock = CircularQueue(12)\n",
        "\n",
        "clock.enqueue(circle.dequeue())\n",
        "clock.enqueue(circle.dequeue())\n",
        "clock.enqueue(circle.dequeue())\n",
        "clock.enqueue(circle.dequeue())\n",
        "clock.enqueue(circle.dequeue())\n",
        "clock.enqueue(circle.dequeue())\n",
        "clock.enqueue(circle.dequeue())\n",
        "clock.enqueue(circle.dequeue())\n",
        "clock.enqueue(circle.dequeue())\n",
        "clock.enqueue(circle.dequeue())\n",
        "clock.enqueue(circle.dequeue())\n",
        "clock.enqueue(circle.dequeue())\n",
        "clock.printCQueue()\n"
      ],
      "metadata": {
        "id": "d1OnpmiRBQiK",
        "outputId": "edf297e8-253b-4bf4-b1b7-28ab6b0a12be",
        "colab": {
          "base_uri": "https://localhost:8080/"
        }
      },
      "execution_count": 129,
      "outputs": [
        {
          "output_type": "stream",
          "name": "stdout",
          "text": [
            "I II III IV V VI VII VIII IX X XI XII \n"
          ]
        }
      ]
    },
    {
      "cell_type": "markdown",
      "metadata": {
        "id": "2ZwpAGxZk8nD"
      },
      "source": [
        "#### 4. Create a Priority Queue\n",
        "\n",
        "Given the queue below,\n",
        "\n",
        "**Queue:**\n",
        "\n",
        "| Cat | Dog | Rabbit | Bird | Hamster\n",
        "| --- | --- | --- | --- | --- |\n",
        "\n",
        "\n",
        "**dequeue** each element and insert them into a **Priority Queue** with the following priority values\n",
        "\n",
        "**Priority Queue:**\n",
        "\n",
        "| Element | Priority |\n",
        "| --- | --- |\n",
        "| Hamster |  0 |\n",
        "| Bird |  1 |\n",
        "| Rabbit |  2 |\n",
        "| Dog |  3 |\n",
        "| Cat |  4 |\n",
        "\n",
        "**Expected output:**\n",
        "\n",
        "Hamster Bird Rabbit Dog Cat"
      ]
    },
    {
      "cell_type": "code",
      "execution_count": 130,
      "metadata": {
        "id": "EqI6BsZTk8nE"
      },
      "outputs": [],
      "source": [
        "pri = Queue()\n",
        "pri.enqueue(\"Hamster\")\n",
        "pri.enqueue(\"Bird\")\n",
        "pri.enqueue(\"Rabbit\")\n",
        "pri.enqueue(\"Dog\")\n",
        "pri.enqueue(\"Cat\")"
      ]
    },
    {
      "cell_type": "code",
      "source": [
        "prio = PriorityQueue()\n",
        "prio.push(pri.dequeue(),0)\n",
        "prio.push(pri.dequeue(),1)\n",
        "prio.push(pri.dequeue(),2)\n",
        "prio.push(pri.dequeue(),3)\n",
        "prio.push(pri.dequeue(),4)\n",
        "prio.traverse()"
      ],
      "metadata": {
        "id": "O8R_2ERaCS--",
        "outputId": "05c8c3e4-ce67-4bcf-bcd4-1413a61f0b49",
        "colab": {
          "base_uri": "https://localhost:8080/"
        }
      },
      "execution_count": 131,
      "outputs": [
        {
          "output_type": "stream",
          "name": "stdout",
          "text": [
            "Hamster Bird Rabbit Dog Cat "
          ]
        }
      ]
    },
    {
      "cell_type": "markdown",
      "metadata": {
        "id": "CmCNCmT6k8nE"
      },
      "source": [
        "#### 5. Create a Sorted Circular Queue\n",
        "\n",
        "Given the queue below,\n",
        "\n",
        "**Queue:**\n",
        "\n",
        "| 1 | 5 | 3 | 2 | 7 | 8 | 10 | 11 | 6 | 4 | 12 | 9\n",
        "| --- | --- | --- | --- | --- | --- | --- | --- | --- | --- | --- | --- |\n",
        "\n",
        "\n",
        "**dequeue** each element and insert them into a **Circular Queue** in the following order below:\n",
        "\n",
        "**Circular Queue:**\n",
        "\n",
        "<img src=\"clock1.png\"/>\n",
        "\n",
        "**Expected output:**\n",
        "\n",
        "1 2 3 4 5 6 7 8 9 10 11 12"
      ]
    },
    {
      "cell_type": "code",
      "execution_count": 132,
      "metadata": {
        "colab": {
          "base_uri": "https://localhost:8080/"
        },
        "id": "LhuOc1aSk8nE",
        "outputId": "c51e11b1-6b65-4d6c-86e0-af729ca1d44a"
      },
      "outputs": [
        {
          "output_type": "stream",
          "name": "stdout",
          "text": [
            "1 2 3 4 5 6 7 8 9 10 11 12 \n"
          ]
        }
      ],
      "source": [
        "sort = Queue()\n",
        "sort.enqueue('1')\n",
        "sort.enqueue('5')\n",
        "sort.enqueue('3')\n",
        "sort.enqueue('2')\n",
        "sort.enqueue('7')\n",
        "sort.enqueue('8')\n",
        "sort.enqueue('10')\n",
        "sort.enqueue('11')\n",
        "sort.enqueue('6')\n",
        "sort.enqueue('4')\n",
        "sort.enqueue('12')\n",
        "sort.enqueue('9')\n",
        "\n",
        "prio = PriorityQueue()\n",
        "prio.push(sort.dequeue(),1)\n",
        "prio.push(sort.dequeue(),5)\n",
        "prio.push(sort.dequeue(),3)\n",
        "prio.push(sort.dequeue(),2)\n",
        "prio.push(sort.dequeue(),7)\n",
        "prio.push(sort.dequeue(),8)\n",
        "prio.push(sort.dequeue(),10)\n",
        "prio.push(sort.dequeue(),11)\n",
        "prio.push(sort.dequeue(),6)\n",
        "prio.push(sort.dequeue(),4)\n",
        "prio.push(sort.dequeue(),12)\n",
        "prio.push(sort.dequeue(),9)\n",
        "\n",
        "circ = CircularQueue(12)\n",
        "circ.enqueue(prio.peek())\n",
        "prio.pop()\n",
        "circ.enqueue(prio.peek())\n",
        "prio.pop()\n",
        "circ.enqueue(prio.peek())\n",
        "prio.pop()\n",
        "circ.enqueue(prio.peek())\n",
        "prio.pop()\n",
        "circ.enqueue(prio.peek())\n",
        "prio.pop()\n",
        "circ.enqueue(prio.peek())\n",
        "prio.pop()\n",
        "circ.enqueue(prio.peek())\n",
        "prio.pop()\n",
        "circ.enqueue(prio.peek())\n",
        "prio.pop()\n",
        "circ.enqueue(prio.peek())\n",
        "prio.pop()\n",
        "circ.enqueue(prio.peek())\n",
        "prio.pop()\n",
        "circ.enqueue(prio.peek())\n",
        "prio.pop()\n",
        "circ.enqueue(prio.peek())\n",
        "prio.pop()\n",
        "\n",
        "circ.printCQueue()"
      ]
    }
  ],
  "metadata": {
    "kernelspec": {
      "display_name": "Python 3",
      "language": "python",
      "name": "python3"
    },
    "language_info": {
      "codemirror_mode": {
        "name": "ipython",
        "version": 3
      },
      "file_extension": ".py",
      "mimetype": "text/x-python",
      "name": "python",
      "nbconvert_exporter": "python",
      "pygments_lexer": "ipython3",
      "version": "3.9.13"
    },
    "orig_nbformat": 4,
    "colab": {
      "provenance": []
    }
  },
  "nbformat": 4,
  "nbformat_minor": 0
}