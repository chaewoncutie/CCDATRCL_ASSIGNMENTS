{
  "cells": [
    {
      "cell_type": "markdown",
      "metadata": {
        "id": "DN15rkKvhGBr"
      },
      "source": [
        "# Exercise 5"
      ]
    },
    {
      "cell_type": "markdown",
      "metadata": {
        "id": "oEys_5t7hGBt"
      },
      "source": [
        "#### 1. Create a dictionary of your 10 favorite songs."
      ]
    },
    {
      "cell_type": "markdown",
      "metadata": {
        "id": "T1iOtzXshGBu"
      },
      "source": [
        "Example:\n",
        "\n",
        "|KEY|VALUE|\n",
        "|---|---|\n",
        "|001|My Love|\n",
        "|002|Like a rose|"
      ]
    },
    {
      "cell_type": "code",
      "execution_count": 27,
      "metadata": {
        "id": "dprOhMRchGBu",
        "outputId": "cf53ee10-30f3-4c69-9ef2-e886a95f5e5d",
        "colab": {
          "base_uri": "https://localhost:8080/"
        }
      },
      "outputs": [
        {
          "output_type": "execute_result",
          "data": {
            "text/plain": [
              "{'001': 'Estranghero',\n",
              " '002': 'Araw-Araw',\n",
              " '003': 'Black Mamba',\n",
              " '004': 'Hold On Tight',\n",
              " '005': 'Levitating',\n",
              " '006': 'Save Your Tears',\n",
              " '007': 'From The Start',\n",
              " '008': 'Let You Break My Heart Again',\n",
              " '009': 'Killer Queen',\n",
              " '010': 'Bohemian Rhapsody'}"
            ]
          },
          "metadata": {},
          "execution_count": 27
        }
      ],
      "source": [
        "# put your answer here\n",
        "newdictionary = {\n",
        "    \"001\": \"Estranghero\",\n",
        "    \"002\": \"Araw-Araw\",\n",
        "    \"003\": \"Black Mamba\",\n",
        "    \"004\": \"Hold On Tight\",\n",
        "    \"005\": \"Levitating\",\n",
        "    \"006\": \"Save Your Tears\",\n",
        "    \"007\": \"From The Start\",\n",
        "    \"008\": \"Let You Break My Heart Again\",\n",
        "    \"009\": \"Killer Queen\",\n",
        "    \"010\": \"Bohemian Rhapsody\"\n",
        "}\n",
        "newdictionary"
      ]
    },
    {
      "cell_type": "markdown",
      "metadata": {
        "id": "g1FstA7XhGBv"
      },
      "source": [
        "#### 2. Loop through the dictionary by its **key** and **value**"
      ]
    },
    {
      "cell_type": "code",
      "execution_count": 35,
      "metadata": {
        "id": "QgyUTiuHhGBv",
        "outputId": "2c21d3f0-db8c-4588-f145-f4162225688d",
        "colab": {
          "base_uri": "https://localhost:8080/"
        }
      },
      "outputs": [
        {
          "output_type": "stream",
          "name": "stdout",
          "text": [
            "001\n",
            "002\n",
            "003\n",
            "004\n",
            "005\n",
            "006\n",
            "007\n",
            "008\n",
            "009\n",
            "010\n",
            "Estranghero\n",
            "Araw-Araw\n",
            "Black Mamba\n",
            "Hold On Tight\n",
            "Levitating\n",
            "Save Your Tears\n",
            "From The Start\n",
            "Let You Break My Heart Again\n",
            "Killer Queen\n",
            "Bohemian Rhapsody\n"
          ]
        }
      ],
      "source": [
        "# put your answer here\n",
        "for i in newdictionary:\n",
        "  print(i)\n",
        "for i in newdictionary.values():\n",
        "  print(i)"
      ]
    },
    {
      "cell_type": "markdown",
      "metadata": {
        "id": "h5N_w8-yhGBw"
      },
      "source": [
        "#### 3. Add one additional song"
      ]
    },
    {
      "cell_type": "code",
      "execution_count": 29,
      "metadata": {
        "id": "oUXMAJWEhGBw",
        "outputId": "e69ef7c7-8cf7-44e9-a629-866db97a545e",
        "colab": {
          "base_uri": "https://localhost:8080/"
        }
      },
      "outputs": [
        {
          "output_type": "execute_result",
          "data": {
            "text/plain": [
              "{'001': 'Estranghero',\n",
              " '002': 'Araw-Araw',\n",
              " '003': 'Black Mamba',\n",
              " '004': 'Hold On Tight',\n",
              " '005': 'Levitating',\n",
              " '006': 'Save Your Tears',\n",
              " '007': 'From The Start',\n",
              " '008': 'Let You Break My Heart Again',\n",
              " '009': 'Killer Queen',\n",
              " '010': 'Bohemian Rhapsody',\n",
              " '011': 'Hanggang Kailan'}"
            ]
          },
          "metadata": {},
          "execution_count": 29
        }
      ],
      "source": [
        "# put your answer here\n",
        "newdictionary[\"011\"] = \"Hanggang Kailan\"\n",
        "newdictionary"
      ]
    },
    {
      "cell_type": "markdown",
      "metadata": {
        "id": "7OlW5r9dhGBx"
      },
      "source": [
        "#### 4. Remove one song"
      ]
    },
    {
      "cell_type": "code",
      "execution_count": 30,
      "metadata": {
        "id": "g39mqwpDhGBx",
        "outputId": "09600697-0f78-4fb2-fc3a-9247017a1ef7",
        "colab": {
          "base_uri": "https://localhost:8080/"
        }
      },
      "outputs": [
        {
          "output_type": "execute_result",
          "data": {
            "text/plain": [
              "{'001': 'Estranghero',\n",
              " '002': 'Araw-Araw',\n",
              " '003': 'Black Mamba',\n",
              " '004': 'Hold On Tight',\n",
              " '005': 'Levitating',\n",
              " '006': 'Save Your Tears',\n",
              " '007': 'From The Start',\n",
              " '008': 'Let You Break My Heart Again',\n",
              " '009': 'Killer Queen',\n",
              " '010': 'Bohemian Rhapsody'}"
            ]
          },
          "metadata": {},
          "execution_count": 30
        }
      ],
      "source": [
        "# put your answer here\n",
        "newdictionary.pop(\"011\")\n",
        "newdictionary"
      ]
    },
    {
      "cell_type": "markdown",
      "metadata": {
        "id": "gZ8Sr1bzhGBy"
      },
      "source": [
        "#### 5. Create a nested dictionary of your 10 favorite songs with 5 genres. Display all of the items of the nested dictionary\n",
        "\n",
        "- Each nested dictionary's key should be the genre of the song\n",
        "- Put each song in their respective genre"
      ]
    },
    {
      "cell_type": "markdown",
      "metadata": {
        "id": "US1ZaaSJhGBy"
      },
      "source": [
        "Example:\n",
        "\n",
        "\n",
        "|KEY|VALUE|\n",
        "|---|---|\n",
        "|Pop|{001, Baby}|\n",
        "|Rock|{001, Enter Sandman}|"
      ]
    },
    {
      "cell_type": "code",
      "execution_count": 31,
      "metadata": {
        "id": "z577KULkhGBz",
        "outputId": "3aa27342-8690-420d-f87e-c0820b67313a",
        "colab": {
          "base_uri": "https://localhost:8080/"
        }
      },
      "outputs": [
        {
          "output_type": "execute_result",
          "data": {
            "text/plain": [
              "{'OPM': {'001': 'Estranghero', '002': 'Araw-Araw'},\n",
              " 'Kpop': {'001': 'Black Mamba', '002': 'Hold On Tight'},\n",
              " 'Pop': {'001': 'Levitating', '002': 'Save Your Tears'},\n",
              " 'Jazz': {'001': 'From The Start', '002': 'Let You Break My Heart Again'},\n",
              " 'Rock': {'001': 'Killer Queen', '002': 'Bohemian Rhapsody'}}"
            ]
          },
          "metadata": {},
          "execution_count": 31
        }
      ],
      "source": [
        "# put your answer here\n",
        "newdictionarygenre = {\n",
        "  \"OPM\" : {\n",
        "    \"001\" : \"Estranghero\",\n",
        "    \"002\" : \"Araw-Araw\"\n",
        "  },\n",
        "  \"Kpop\" : {\n",
        "    \"001\" : \"Black Mamba\",\n",
        "    \"002\" : \"Hold On Tight\"\n",
        "  },\n",
        "  \"Pop\" : {\n",
        "    \"001\" : \"Levitating\",\n",
        "    \"002\" : \"Save Your Tears\"\n",
        "  },\n",
        "   \"Jazz\" : {\n",
        "    \"001\" : \"From The Start\",\n",
        "    \"002\" : \"Let You Break My Heart Again\"\n",
        "  },\n",
        "   \"Rock\" : {\n",
        "    \"001\" : \"Killer Queen\",\n",
        "    \"002\" : \"Bohemian Rhapsody\"\n",
        "  }\n",
        "}\n",
        "newdictionarygenre"
      ]
    },
    {
      "cell_type": "markdown",
      "metadata": {
        "id": "ZMgltzOkhGBz"
      },
      "source": [
        "#### 6. Print the first song of the first genre"
      ]
    },
    {
      "cell_type": "code",
      "execution_count": 32,
      "metadata": {
        "id": "nmXUGoNWhGBz",
        "outputId": "cbfdb4dc-b31a-4891-e179-f1b759356d7c",
        "colab": {
          "base_uri": "https://localhost:8080/"
        }
      },
      "outputs": [
        {
          "output_type": "stream",
          "name": "stdout",
          "text": [
            "Estranghero\n"
          ]
        }
      ],
      "source": [
        "# put your answer here\n",
        "print(newdictionarygenre[\"OPM\"][\"001\"])"
      ]
    },
    {
      "cell_type": "markdown",
      "metadata": {
        "id": "dEcgwp_ihGB0"
      },
      "source": [
        "#### 7. Print the first song of the last genre"
      ]
    },
    {
      "cell_type": "code",
      "execution_count": 33,
      "metadata": {
        "id": "ITbuWq2UhGB0",
        "outputId": "6c3518a9-b8f6-47f8-c35c-7274a6d6751d",
        "colab": {
          "base_uri": "https://localhost:8080/"
        }
      },
      "outputs": [
        {
          "output_type": "stream",
          "name": "stdout",
          "text": [
            "Killer Queen\n"
          ]
        }
      ],
      "source": [
        "# put your answer here\n",
        "print(newdictionarygenre[\"Rock\"][\"001\"])"
      ]
    }
  ],
  "metadata": {
    "kernelspec": {
      "display_name": "Python 3",
      "language": "python",
      "name": "python3"
    },
    "language_info": {
      "codemirror_mode": {
        "name": "ipython",
        "version": 3
      },
      "file_extension": ".py",
      "mimetype": "text/x-python",
      "name": "python",
      "nbconvert_exporter": "python",
      "pygments_lexer": "ipython3",
      "version": "3.11.4"
    },
    "orig_nbformat": 4,
    "colab": {
      "provenance": []
    }
  },
  "nbformat": 4,
  "nbformat_minor": 0
}